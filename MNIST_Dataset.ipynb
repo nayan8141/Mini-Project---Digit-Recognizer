{
  "nbformat": 4,
  "nbformat_minor": 0,
  "metadata": {
    "colab": {
      "name": "MNIST Dataset.ipynb",
      "provenance": [],
      "authorship_tag": "ABX9TyNKa6ykD5nFR27+DC3hEnwH",
      "include_colab_link": true
    },
    "kernelspec": {
      "name": "python3",
      "display_name": "Python 3"
    }
  },
  "cells": [
    {
      "cell_type": "markdown",
      "metadata": {
        "id": "view-in-github",
        "colab_type": "text"
      },
      "source": [
        "<a href=\"https://colab.research.google.com/github/nayan8141/Mini-Project---Digit-Recognizer/blob/master/MNIST_Dataset.ipynb\" target=\"_parent\"><img src=\"https://colab.research.google.com/assets/colab-badge.svg\" alt=\"Open In Colab\"/></a>"
      ]
    },
    {
      "cell_type": "code",
      "metadata": {
        "id": "40MhofuvL_-B",
        "colab_type": "code",
        "colab": {
          "base_uri": "https://localhost:8080/",
          "height": 50
        },
        "outputId": "85324d45-bc73-4f9b-d072-507bede8e889"
      },
      "source": [
        "import tensorflow as tf\n",
        "mnist = tf.keras.datasets.mnist\n",
        "(x_train,y_train),(x_test,y_test) = mnist.load_data()"
      ],
      "execution_count": 1,
      "outputs": [
        {
          "output_type": "stream",
          "text": [
            "Downloading data from https://storage.googleapis.com/tensorflow/tf-keras-datasets/mnist.npz\n",
            "11493376/11490434 [==============================] - 0s 0us/step\n"
          ],
          "name": "stdout"
        }
      ]
    },
    {
      "cell_type": "markdown",
      "metadata": {
        "id": "0xvVRTDepl5Q",
        "colab_type": "text"
      },
      "source": [
        "![mnistpic.png](data:image/png;base64,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)"
      ]
    },
    {
      "cell_type": "code",
      "metadata": {
        "id": "p5ttcox6OVXO",
        "colab_type": "code",
        "colab": {
          "base_uri": "https://localhost:8080/",
          "height": 34
        },
        "outputId": "cf700153-e1cd-4bfe-a9a6-c0e6cdb60390"
      },
      "source": [
        "x_train.shape"
      ],
      "execution_count": 2,
      "outputs": [
        {
          "output_type": "execute_result",
          "data": {
            "text/plain": [
              "(60000, 28, 28)"
            ]
          },
          "metadata": {
            "tags": []
          },
          "execution_count": 2
        }
      ]
    },
    {
      "cell_type": "code",
      "metadata": {
        "id": "UX7PtYNpOpM_",
        "colab_type": "code",
        "colab": {
          "base_uri": "https://localhost:8080/",
          "height": 34
        },
        "outputId": "3118866b-33ee-40eb-98b7-2deb5f32b1c9"
      },
      "source": [
        "x_test.shape"
      ],
      "execution_count": 3,
      "outputs": [
        {
          "output_type": "execute_result",
          "data": {
            "text/plain": [
              "(10000, 28, 28)"
            ]
          },
          "metadata": {
            "tags": []
          },
          "execution_count": 3
        }
      ]
    },
    {
      "cell_type": "code",
      "metadata": {
        "id": "jrcAdariOtz-",
        "colab_type": "code",
        "colab": {
          "base_uri": "https://localhost:8080/",
          "height": 1000
        },
        "outputId": "ac304a46-640a-422e-aaad-69b86bd0c593"
      },
      "source": [
        "x_train[600]"
      ],
      "execution_count": 4,
      "outputs": [
        {
          "output_type": "execute_result",
          "data": {
            "text/plain": [
              "array([[  0,   0,   0,   0,   0,   0,   0,   0,   0,   0,   0,   0,   0,\n",
              "          0,   0,   0,   0,   0,   0,   0,   0,   0,   0,   0,   0,   0,\n",
              "          0,   0],\n",
              "       [  0,   0,   0,   0,   0,   0,   0,   0,   0,   0,   0,   0,   0,\n",
              "          0,   0,   0,   0,   0,   0,   0,   0,   0,   0,   0,   0,   0,\n",
              "          0,   0],\n",
              "       [  0,   0,   0,   0,   0,   0,   0,   0,   0,   0,   0,   0,   0,\n",
              "          0,   0,   0,   0,   0,   0,   0,   0,   0,   0,   0,   0,   0,\n",
              "          0,   0],\n",
              "       [  0,   0,   0,   0,   0,   0,   0,   0,   0,   0,   0,   0,   0,\n",
              "          0,   0,   0,   0,   0,   0,   0,   0,   0,   0,   0,   0,   0,\n",
              "          0,   0],\n",
              "       [  0,   0,   0,   0,   0,   0,   0,   0,   0,   0,   0,   0,   0,\n",
              "          0,   0,   0,   0,   0,   0,   0,   0,   0,   0,   0,   0,   0,\n",
              "          0,   0],\n",
              "       [  0,   0,   0,   0,   0,   0,   0,   0,   0,   0,   0,   0,   0,\n",
              "          0,   0,   0,   0,   0,   0,   0,   0,   0,   0,   0,   0,   0,\n",
              "          0,   0],\n",
              "       [  0,   0,   0,   0,   0,   0,   0,   0,   0,   0,   0,   0,   0,\n",
              "          0,   0,   0,   0,   0,   0,   0,   0,   0,   0,   0,   0,   0,\n",
              "          0,   0],\n",
              "       [  0,   0,   0,   0,   0,   0,   0,   0,   0,   0,   0,   0,  16,\n",
              "        170, 255, 254, 219,  12,   0,   0,   0,   0,   0,   0,   0,   0,\n",
              "          0,   0],\n",
              "       [  0,   0,   0,   0,   0,   0,   0,   0,   0,   0,   0,  29, 238,\n",
              "        254, 252, 245, 253, 142,   0,   0,   0,   0,   0,   0,   0,   0,\n",
              "          0,   0],\n",
              "       [  0,   0,   0,   0,   0,   0,   0,   0,   0,   0,  25, 238, 254,\n",
              "        230,  75,   0, 162, 195,   0,   0,   0,   0,   0,   0,   0,   0,\n",
              "          0,   0],\n",
              "       [  0,   0,   0,   0,   0,   0,   0,   0,   0,   0, 173, 254, 215,\n",
              "         13,   0,  20, 211, 218,  10,   0,   0,   0,   0,   0,   0,   0,\n",
              "          0,   0],\n",
              "       [  0,   0,   0,   0,   0,   0,   0,   0,   0,   0, 196, 240,  30,\n",
              "          0,   0,  64, 254, 249,  23,   0,   0,   0,   0,   0,   0,   0,\n",
              "          0,   0],\n",
              "       [  0,   0,   0,   0,   0,   0,   0,   0,   0,  19, 240, 157,   0,\n",
              "          5, 111, 245, 254, 159,   0,   0,   0,   0,   0,   0,   0,   0,\n",
              "          0,   0],\n",
              "       [  0,   0,   0,   0,   0,   0,   0,   0,   0,  26, 254, 124,  97,\n",
              "        191, 254, 254, 254,  48,   0,   0,   0,   0,   0,   0,   0,   0,\n",
              "          0,   0],\n",
              "       [  0,   0,   0,   0,   0,   0,   0,   0,   0,   6, 208, 254, 254,\n",
              "        254, 254, 254, 247,  25,   0,   0,   0,   0,   0,   0,   0,   0,\n",
              "          0,   0],\n",
              "       [  0,   0,   0,   0,   0,   0,   0,   0,   0,   0,  85, 246, 248,\n",
              "        147, 100, 254, 199,   0,   0,   0,   0,   0,   0,   0,   0,   0,\n",
              "          0,   0],\n",
              "       [  0,   0,   0,   0,   0,   0,   0,   0,   0,   0,   0,  36,  39,\n",
              "          0,  46, 254, 118,   0,   0,   0,   0,   0,   0,   0,   0,   0,\n",
              "          0,   0],\n",
              "       [  0,   0,   0,   0,   0,   0,   0,   0,   0,   0,   0,   0,   0,\n",
              "          0,  62, 254,  33,   0,   0,   0,   0,   0,   0,   0,   0,   0,\n",
              "          0,   0],\n",
              "       [  0,   0,   0,   0,   0,   0,   0,   0,   0,   0,   0,   0,   0,\n",
              "          0, 173, 244,  27,   0,   0,   0,   0,   0,   0,   0,   0,   0,\n",
              "          0,   0],\n",
              "       [  0,   0,   0,   0,   0,   0,   0,   0,   0,   0,   0,   0,   0,\n",
              "          9, 221, 186,   0,   0,   0,   0,   0,   0,   0,   0,   0,   0,\n",
              "          0,   0],\n",
              "       [  0,   0,   0,   0,   0,   0,   0,   0,   0,   0,   0,   0,   0,\n",
              "         42, 254, 102,   0,   0,   0,   0,   0,   0,   0,   0,   0,   0,\n",
              "          0,   0],\n",
              "       [  0,   0,   0,   0,   0,   0,   0,   0,   0,   0,   0,   0,   0,\n",
              "        118, 254,  37,   0,   0,   0,   0,   0,   0,   0,   0,   0,   0,\n",
              "          0,   0],\n",
              "       [  0,   0,   0,   0,   0,   0,   0,   0,   0,   0,   0,   0,   0,\n",
              "        147, 254,  37,   0,   0,   0,   0,   0,   0,   0,   0,   0,   0,\n",
              "          0,   0],\n",
              "       [  0,   0,   0,   0,   0,   0,   0,   0,   0,   0,   0,   0,   0,\n",
              "        209, 211,   3,   0,   0,   0,   0,   0,   0,   0,   0,   0,   0,\n",
              "          0,   0],\n",
              "       [  0,   0,   0,   0,   0,   0,   0,   0,   0,   0,   0,   0,   0,\n",
              "        209, 155,   0,   0,   0,   0,   0,   0,   0,   0,   0,   0,   0,\n",
              "          0,   0],\n",
              "       [  0,   0,   0,   0,   0,   0,   0,   0,   0,   0,   0,   0,   0,\n",
              "        209, 125,   0,   0,   0,   0,   0,   0,   0,   0,   0,   0,   0,\n",
              "          0,   0],\n",
              "       [  0,   0,   0,   0,   0,   0,   0,   0,   0,   0,   0,   0,   0,\n",
              "        181,  70,   0,   0,   0,   0,   0,   0,   0,   0,   0,   0,   0,\n",
              "          0,   0],\n",
              "       [  0,   0,   0,   0,   0,   0,   0,   0,   0,   0,   0,   0,   0,\n",
              "          0,   0,   0,   0,   0,   0,   0,   0,   0,   0,   0,   0,   0,\n",
              "          0,   0]], dtype=uint8)"
            ]
          },
          "metadata": {
            "tags": []
          },
          "execution_count": 4
        }
      ]
    },
    {
      "cell_type": "code",
      "metadata": {
        "id": "HPRQwNOvrUDJ",
        "colab_type": "code",
        "colab": {
          "base_uri": "https://localhost:8080/",
          "height": 34
        },
        "outputId": "e3e3a64a-672f-45c3-9ffe-231baf75edba"
      },
      "source": [
        "x_train[34].shape"
      ],
      "execution_count": 5,
      "outputs": [
        {
          "output_type": "execute_result",
          "data": {
            "text/plain": [
              "(28, 28)"
            ]
          },
          "metadata": {
            "tags": []
          },
          "execution_count": 5
        }
      ]
    },
    {
      "cell_type": "code",
      "metadata": {
        "id": "07YMoiS5PaAi",
        "colab_type": "code",
        "colab": {
          "base_uri": "https://localhost:8080/",
          "height": 265
        },
        "outputId": "6cd643ec-d999-4875-8b9a-2ae8fb1decec"
      },
      "source": [
        "import matplotlib.pyplot as plt\n",
        "plt.imshow(x_train[487],cmap='gray')\n",
        "plt.show()"
      ],
      "execution_count": 6,
      "outputs": [
        {
          "output_type": "display_data",
          "data": {
            "image/png": "[encoded data removed]",
            "text/plain": [
              "<Figure size 432x288 with 1 Axes>"
            ]
          },
          "metadata": {
            "tags": [],
            "needs_background": "light"
          }
        }
      ]
    },
    {
      "cell_type": "code",
      "metadata": {
        "id": "Cg9SAogfQGvU",
        "colab_type": "code",
        "colab": {
          "base_uri": "https://localhost:8080/",
          "height": 34
        },
        "outputId": "e12398d0-c967-4049-f605-aa2b42128af9"
      },
      "source": [
        "x_train[34].min()"
      ],
      "execution_count": 7,
      "outputs": [
        {
          "output_type": "execute_result",
          "data": {
            "text/plain": [
              "0"
            ]
          },
          "metadata": {
            "tags": []
          },
          "execution_count": 7
        }
      ]
    },
    {
      "cell_type": "code",
      "metadata": {
        "id": "OkP4ftJAQKA4",
        "colab_type": "code",
        "colab": {
          "base_uri": "https://localhost:8080/",
          "height": 34
        },
        "outputId": "440b3055-043e-469e-e56a-78d443f22ac3"
      },
      "source": [
        "x_train[34].max()"
      ],
      "execution_count": 8,
      "outputs": [
        {
          "output_type": "execute_result",
          "data": {
            "text/plain": [
              "255"
            ]
          },
          "metadata": {
            "tags": []
          },
          "execution_count": 8
        }
      ]
    },
    {
      "cell_type": "code",
      "metadata": {
        "id": "By7NGQsXQQH7",
        "colab_type": "code",
        "colab": {}
      },
      "source": [
        "model = tf.keras.models.Sequential()\n",
        "model.add(tf.keras.layers.Flatten())\n",
        "model.add(tf.keras.layers.Dense(512,activation ='relu'))\n",
        "model.add(tf.keras.layers.Dense(10,activation='softmax'))\n",
        "model.compile(optimizer='adam',loss = 'sparse_categorical_crossentropy',metrics = 'accuracy')"
      ],
      "execution_count": 9,
      "outputs": []
    },
    {
      "cell_type": "code",
      "metadata": {
        "id": "89WjEqhbQdE5",
        "colab_type": "code",
        "colab": {
          "base_uri": "https://localhost:8080/",
          "height": 185
        },
        "outputId": "573240f3-3bfc-421e-d208-9388fcc4b56d"
      },
      "source": [
        "history = model.fit(x_train,y_train,epochs = 5)"
      ],
      "execution_count": 10,
      "outputs": [
        {
          "output_type": "stream",
          "text": [
            "Epoch 1/5\n",
            "1875/1875 [==============================] - 7s 4ms/step - loss: 2.6773 - accuracy: 0.9070\n",
            "Epoch 2/5\n",
            "1875/1875 [==============================] - 7s 4ms/step - loss: 0.3550 - accuracy: 0.9394\n",
            "Epoch 3/5\n",
            "1875/1875 [==============================] - 7s 4ms/step - loss: 0.3099 - accuracy: 0.9412\n",
            "Epoch 4/5\n",
            "1875/1875 [==============================] - 8s 4ms/step - loss: 0.2797 - accuracy: 0.9451\n",
            "Epoch 5/5\n",
            "1875/1875 [==============================] - 7s 4ms/step - loss: 0.2519 - accuracy: 0.9495\n"
          ],
          "name": "stdout"
        }
      ]
    },
    {
      "cell_type": "code",
      "metadata": {
        "id": "xtPQ1Pd7Q4Ec",
        "colab_type": "code",
        "colab": {
          "base_uri": "https://localhost:8080/",
          "height": 104
        },
        "outputId": "9b1c0dcd-b891-4f21-a5cb-f0a264818ff7"
      },
      "source": [
        "y_pred = model.predict_classes(x_test)\n",
        "y_pred"
      ],
      "execution_count": 11,
      "outputs": [
        {
          "output_type": "stream",
          "text": [
            "WARNING:tensorflow:From <ipython-input-11-41a58b04bb02>:1: Sequential.predict_classes (from tensorflow.python.keras.engine.sequential) is deprecated and will be removed after 2021-01-01.\n",
            "Instructions for updating:\n",
            "Please use instead:* `np.argmax(model.predict(x), axis=-1)`,   if your model does multi-class classification   (e.g. if it uses a `softmax` last-layer activation).* `(model.predict(x) > 0.5).astype(\"int32\")`,   if your model does binary classification   (e.g. if it uses a `sigmoid` last-layer activation).\n"
          ],
          "name": "stdout"
        },
        {
          "output_type": "execute_result",
          "data": {
            "text/plain": [
              "array([7, 2, 1, ..., 4, 5, 6])"
            ]
          },
          "metadata": {
            "tags": []
          },
          "execution_count": 11
        }
      ]
    },
    {
      "cell_type": "code",
      "metadata": {
        "id": "kEI88TPiQ6OL",
        "colab_type": "code",
        "colab": {
          "base_uri": "https://localhost:8080/",
          "height": 34
        },
        "outputId": "27845fad-a1d7-412f-e349-fbb6ad052ed2"
      },
      "source": [
        "y_pred[0]"
      ],
      "execution_count": 12,
      "outputs": [
        {
          "output_type": "execute_result",
          "data": {
            "text/plain": [
              "7"
            ]
          },
          "metadata": {
            "tags": []
          },
          "execution_count": 12
        }
      ]
    },
    {
      "cell_type": "code",
      "metadata": {
        "id": "Fj6dQSLXdfk_",
        "colab_type": "code",
        "colab": {
          "base_uri": "https://localhost:8080/",
          "height": 34
        },
        "outputId": "cf13b8b9-01a1-4d07-c356-093802ebd624"
      },
      "source": [
        "import numpy as np\n",
        "np.argmax(y_pred[0])"
      ],
      "execution_count": 13,
      "outputs": [
        {
          "output_type": "execute_result",
          "data": {
            "text/plain": [
              "0"
            ]
          },
          "metadata": {
            "tags": []
          },
          "execution_count": 13
        }
      ]
    },
    {
      "cell_type": "code",
      "metadata": {
        "id": "nyzGmYUqeH22",
        "colab_type": "code",
        "colab": {
          "base_uri": "https://localhost:8080/",
          "height": 34
        },
        "outputId": "9262dbfd-81f2-4da5-f14a-437cacbaf8c9"
      },
      "source": [
        "np.argmax(model.predict(x_test), axis=-1)"
      ],
      "execution_count": 14,
      "outputs": [
        {
          "output_type": "execute_result",
          "data": {
            "text/plain": [
              "array([7, 2, 1, ..., 4, 5, 6])"
            ]
          },
          "metadata": {
            "tags": []
          },
          "execution_count": 14
        }
      ]
    },
    {
      "cell_type": "code",
      "metadata": {
        "id": "oTdr25ateRJs",
        "colab_type": "code",
        "colab": {
          "base_uri": "https://localhost:8080/",
          "height": 34
        },
        "outputId": "d136ada2-49be-435c-f0d8-66998a977760"
      },
      "source": [
        "# Evaluation\n",
        "from sklearn.metrics import accuracy_score,confusion_matrix\n",
        "accuracy_score(y_pred,y_test)"
      ],
      "execution_count": 15,
      "outputs": [
        {
          "output_type": "execute_result",
          "data": {
            "text/plain": [
              "0.9481"
            ]
          },
          "metadata": {
            "tags": []
          },
          "execution_count": 15
        }
      ]
    },
    {
      "cell_type": "code",
      "metadata": {
        "id": "75XYnvsEebeE",
        "colab_type": "code",
        "colab": {
          "base_uri": "https://localhost:8080/",
          "height": 185
        },
        "outputId": "eeb7c3f7-89ff-482b-b853-1d9fb55f1ada"
      },
      "source": [
        "confusion_matrix(y_pred,y_test)"
      ],
      "execution_count": 16,
      "outputs": [
        {
          "output_type": "execute_result",
          "data": {
            "text/plain": [
              "array([[ 963,    0,    9,    1,    1,    6,   12,    1,    6,    9],\n",
              "       [   1, 1118,   10,    1,    2,    4,    4,    8,   17,    7],\n",
              "       [   1,    3,  963,    7,    2,    0,    0,   14,    8,    1],\n",
              "       [   2,    1,   13,  960,    0,   21,    1,    8,    9,   10],\n",
              "       [   0,    0,    6,    0,  950,    0,    6,    6,    9,   21],\n",
              "       [   0,    1,    1,   11,    2,  824,    2,    1,   23,    8],\n",
              "       [   6,    1,    3,    0,    6,   14,  929,    1,   13,    0],\n",
              "       [   3,    0,   14,   13,    4,    3,    0,  980,    8,   19],\n",
              "       [   4,   11,   11,   13,    8,   16,    4,    2,  868,    8],\n",
              "       [   0,    0,    2,    4,    7,    4,    0,    7,   13,  926]])"
            ]
          },
          "metadata": {
            "tags": []
          },
          "execution_count": 16
        }
      ]
    },
    {
      "cell_type": "code",
      "metadata": {
        "id": "dyw-HDG0ekju",
        "colab_type": "code",
        "colab": {
          "base_uri": "https://localhost:8080/",
          "height": 282
        },
        "outputId": "02bcd248-096e-4b28-ff64-fd4d547cb41f"
      },
      "source": [
        "plt.plot(history.history['accuracy'])"
      ],
      "execution_count": 17,
      "outputs": [
        {
          "output_type": "execute_result",
          "data": {
            "text/plain": [
              "[<matplotlib.lines.Line2D at 0x7f7ce79f4e48>]"
            ]
          },
          "metadata": {
            "tags": []
          },
          "execution_count": 17
        },
        {
          "output_type": "display_data",
          "data": {
            "image/png": "[encoded data removed]",
            "text/plain": [
              "<Figure size 432x288 with 1 Axes>"
            ]
          },
          "metadata": {
            "tags": [],
            "needs_background": "light"
          }
        }
      ]
    },
    {
      "cell_type": "code",
      "metadata": {
        "id": "Rt2kODxDepkY",
        "colab_type": "code",
        "colab": {
          "base_uri": "https://localhost:8080/",
          "height": 1000
        },
        "outputId": "85bb7272-97c0-4cfe-a75a-4f1021ced972"
      },
      "source": [
        "model.get_weights()"
      ],
      "execution_count": 18,
      "outputs": [
        {
          "output_type": "execute_result",
          "data": {
            "text/plain": [
              "[array([[-0.03488362,  0.0208308 , -0.02673443, ..., -0.05295567,\n",
              "         -0.06700197, -0.00871611],\n",
              "        [-0.01454593,  0.06188649, -0.03452081, ...,  0.06151916,\n",
              "          0.03247315, -0.04706113],\n",
              "        [-0.00945697,  0.04976151,  0.01585203, ..., -0.02622727,\n",
              "          0.05650609,  0.05953699],\n",
              "        ...,\n",
              "        [ 0.0055671 ,  0.04848231,  0.04527985, ...,  0.02085488,\n",
              "         -0.02640653,  0.00327373],\n",
              "        [-0.00894024,  0.00637197,  0.01398642, ...,  0.04712965,\n",
              "         -0.01602126, -0.00485891],\n",
              "        [-0.05947087,  0.04726551,  0.00353087, ..., -0.03673655,\n",
              "          0.01680496, -0.03531168]], dtype=float32),\n",
              " array([-0.0789663 , -0.0518766 , -0.05636054, -0.04807736, -0.00861814,\n",
              "        -0.01711529, -0.00957375, -0.05098601, -0.02757932, -0.04687493,\n",
              "        -0.03677924, -0.0221403 , -0.03699991, -0.02706512, -0.04034017,\n",
              "        -0.02666075, -0.02261116, -0.02060823, -0.02139752, -0.02386939,\n",
              "        -0.01900481, -0.02898871, -0.06127267, -0.02322351, -0.05116789,\n",
              "        -0.02436458, -0.03025607, -0.02856947, -0.06894848, -0.03449604,\n",
              "        -0.0214055 , -0.03700519, -0.02649797, -0.03808733, -0.03096389,\n",
              "        -0.03915606, -0.04791997, -0.02914812, -0.04242669, -0.02217456,\n",
              "        -0.0638499 , -0.0419988 , -0.04018687, -0.01068328, -0.05163412,\n",
              "        -0.03572051, -0.02156775, -0.02531056, -0.0324584 , -0.0395039 ,\n",
              "        -0.03310852, -0.03136922, -0.01437239, -0.02586128, -0.06916028,\n",
              "        -0.02993933, -0.02194759, -0.01603751, -0.06678018, -0.03464437,\n",
              "        -0.06313609, -0.0192326 , -0.03167552, -0.01956253, -0.01055885,\n",
              "        -0.05130103, -0.03974089, -0.07736801, -0.0366185 , -0.07128258,\n",
              "        -0.04214529, -0.03910788, -0.08523505, -0.01991605, -0.00420217,\n",
              "        -0.04950506, -0.06891017, -0.05601982, -0.02835499, -0.03059617,\n",
              "        -0.04680803, -0.0421193 , -0.00919674, -0.03603192, -0.01615781,\n",
              "        -0.02542068, -0.04621988, -0.0250068 , -0.09711646, -0.01304592,\n",
              "        -0.0255735 , -0.01301619, -0.01443239, -0.01135656, -0.06843322,\n",
              "        -0.01241228, -0.03078466, -0.04786619, -0.02969016, -0.00504362,\n",
              "        -0.01238904, -0.01455989, -0.03014016, -0.00975848, -0.06544778,\n",
              "        -0.02353686, -0.02782711, -0.06103237, -0.05709488, -0.01604449,\n",
              "        -0.020984  , -0.03304322, -0.02549173, -0.03339841, -0.08480985,\n",
              "        -0.00963209, -0.03098398, -0.08384051, -0.03798127, -0.0233717 ,\n",
              "        -0.03808793, -0.02528011, -0.04139047, -0.03302171, -0.0168522 ,\n",
              "        -0.03560865, -0.01097997, -0.03672739, -0.0228785 , -0.00099777,\n",
              "        -0.04270139, -0.00360911, -0.02003732, -0.06104851, -0.02913635,\n",
              "        -0.02986871, -0.07235888, -0.03125438, -0.01833101, -0.03609831,\n",
              "        -0.03049605, -0.03998896, -0.04394164, -0.07137119, -0.01204028,\n",
              "        -0.01553307, -0.02068344, -0.0167983 , -0.0416305 , -0.01882511,\n",
              "        -0.02208829, -0.0299343 , -0.06278645, -0.0579241 , -0.02816039,\n",
              "        -0.01973818, -0.03856046, -0.04764457, -0.04147685, -0.03946152,\n",
              "        -0.02209644, -0.08149425, -0.04517427, -0.03397416, -0.03594828,\n",
              "        -0.04565432, -0.03982385, -0.02686878, -0.0247201 , -0.08221725,\n",
              "        -0.0284077 , -0.03500216, -0.02918487, -0.029552  , -0.08992819,\n",
              "        -0.05303458, -0.03067856, -0.03359869, -0.04540681, -0.03386113,\n",
              "        -0.03342489, -0.02798934, -0.03731343, -0.02385556, -0.03008642,\n",
              "        -0.03679049, -0.0331263 ,  0.00315151,  0.00912837, -0.03705616,\n",
              "        -0.03523956, -0.03877518, -0.04149132, -0.03030394, -0.01188857,\n",
              "        -0.02703926, -0.02066643, -0.03310222, -0.04014384, -0.03062878,\n",
              "        -0.07219625, -0.025736  , -0.041082  , -0.0587773 , -0.02240046,\n",
              "        -0.01715819, -0.03053433, -0.05855091, -0.03450187, -0.024861  ,\n",
              "        -0.05602049, -0.02373847, -0.03938984, -0.05297836, -0.06483722,\n",
              "        -0.02411947, -0.04006591, -0.05731625, -0.03515713, -0.0126684 ,\n",
              "        -0.00511288, -0.04008807, -0.03576284, -0.0349722 , -0.05411741,\n",
              "        -0.02144032, -0.03236693, -0.00654504, -0.02157175, -0.04077777,\n",
              "        -0.05262003, -0.0304984 , -0.04076561, -0.08225066, -0.0338884 ,\n",
              "        -0.0689306 , -0.05821254, -0.0446186 , -0.01945348, -0.05807919,\n",
              "        -0.02010291, -0.07565057, -0.04159127, -0.03316856, -0.03406336,\n",
              "        -0.02779644, -0.05044328, -0.01931772, -0.01464848, -0.03620117,\n",
              "        -0.046294  , -0.09698673, -0.0737935 , -0.01841697, -0.0224134 ,\n",
              "        -0.03396982, -0.02837154, -0.05620415, -0.01474217, -0.01910393,\n",
              "        -0.04003234, -0.03727145, -0.03954716, -0.08757316, -0.0474417 ,\n",
              "        -0.02334743, -0.02955825, -0.03439644, -0.04082422, -0.06536881,\n",
              "        -0.02035425, -0.02857256, -0.02746885, -0.07883804, -0.04328545,\n",
              "        -0.02782014, -0.03553711, -0.021097  , -0.01695284, -0.0670414 ,\n",
              "        -0.02431438, -0.00693162, -0.0332947 , -0.03671266, -0.06285279,\n",
              "        -0.02474416, -0.03953902, -0.02625826, -0.05828418, -0.08656567,\n",
              "        -0.02242735, -0.01143196, -0.04653736, -0.05028848, -0.01551649,\n",
              "        -0.08444305, -0.02479014, -0.04042751, -0.03968054, -0.07743242,\n",
              "        -0.05670623, -0.01581626, -0.02085937, -0.02200054, -0.03834537,\n",
              "        -0.01758023, -0.03976044, -0.05931513, -0.0171592 , -0.01307825,\n",
              "        -0.02830818, -0.02016275, -0.00975463, -0.02340193, -0.05241698,\n",
              "        -0.05562207, -0.02828421, -0.0179992 , -0.02017364, -0.04255471,\n",
              "        -0.00202657, -0.03219818, -0.02855275, -0.05235723, -0.03483488,\n",
              "        -0.0761514 , -0.07999378, -0.03020192, -0.02639648, -0.02902747,\n",
              "        -0.04212315, -0.01591065, -0.02310879, -0.03554702, -0.02012344,\n",
              "        -0.01105622, -0.02660249, -0.05366436, -0.03815455, -0.05684845,\n",
              "        -0.03268925, -0.03056752, -0.04503863, -0.04780582, -0.04994753,\n",
              "        -0.03625979, -0.05810841, -0.03175835, -0.01768684, -0.02537404,\n",
              "        -0.02150075, -0.07411513, -0.07220384, -0.02782693, -0.04659551,\n",
              "        -0.02736078, -0.04987068, -0.03796018, -0.03852101, -0.04229437,\n",
              "        -0.02707379, -0.00803437, -0.02005075, -0.0325983 , -0.01608355,\n",
              "        -0.05411572, -0.02393498, -0.0351359 , -0.05595658, -0.03115146,\n",
              "        -0.0193273 , -0.05204026, -0.01310732, -0.03189475, -0.02418359,\n",
              "        -0.0348324 , -0.03978514, -0.05592234, -0.04083343, -0.08883172,\n",
              "        -0.03530174, -0.00081438, -0.04038332, -0.02304093, -0.1102957 ,\n",
              "        -0.0525322 , -0.02018461, -0.01910568, -0.02155208, -0.03683988,\n",
              "        -0.0169385 , -0.04654239, -0.02837872, -0.01036046, -0.02722244,\n",
              "        -0.04373252, -0.04107328, -0.02611702, -0.02542501, -0.02719682,\n",
              "        -0.06494682, -0.01118784, -0.02487226, -0.02436708, -0.01755633,\n",
              "        -0.02602548, -0.02804573, -0.02317033, -0.01743626, -0.04402721,\n",
              "        -0.02764876, -0.04499529, -0.0343078 , -0.01042252, -0.03441891,\n",
              "        -0.02460514, -0.04072158, -0.02086936,  0.00046185, -0.04009639,\n",
              "        -0.02671018, -0.08111054, -0.02124092, -0.056653  , -0.04256418,\n",
              "        -0.04425849, -0.06823833, -0.0184973 , -0.02229386, -0.02879186,\n",
              "        -0.04147427, -0.02229294, -0.04442846, -0.08845984, -0.05551922,\n",
              "        -0.02162471, -0.03753373, -0.03845959, -0.01553435, -0.03613462,\n",
              "        -0.10723531, -0.05226506, -0.02107737, -0.04491221, -0.02420796,\n",
              "        -0.03598825, -0.04088836, -0.03049343, -0.02236626, -0.02582916,\n",
              "        -0.02847411, -0.02734755, -0.04196506, -0.02448005, -0.02589829,\n",
              "         0.00780337, -0.02376631, -0.02386071, -0.03038617, -0.04978565,\n",
              "        -0.08416709, -0.01258179, -0.04568397, -0.03719932, -0.01041077,\n",
              "        -0.07313018, -0.02720924, -0.04862323, -0.02589995, -0.01799985,\n",
              "        -0.05174297, -0.05078279, -0.02583602, -0.02916783, -0.02487149,\n",
              "        -0.03865702, -0.01131445, -0.05816268, -0.02149627, -0.04665848,\n",
              "        -0.0337767 , -0.02831101, -0.00754585, -0.01424073, -0.05078037,\n",
              "        -0.03933752, -0.03207153, -0.05860143, -0.05266584, -0.02078628,\n",
              "        -0.02523512, -0.03442477, -0.03482046, -0.01910355, -0.01126124,\n",
              "        -0.03914375, -0.03907131, -0.03813313, -0.06713881, -0.04745171,\n",
              "        -0.03079503, -0.00159104, -0.00871041, -0.01658266, -0.05419878,\n",
              "        -0.02482984, -0.05618338, -0.04112377, -0.04470625, -0.08303512,\n",
              "        -0.02242231, -0.04293891], dtype=float32),\n",
              " array([[ 0.03123904, -0.03066615, -0.00491838, ...,  0.05123032,\n",
              "         -0.00394868,  0.02083503],\n",
              "        [-0.01346777,  0.00288037,  0.04280823, ..., -0.04468795,\n",
              "         -0.01062045, -0.01813317],\n",
              "        [ 0.00958564,  0.05787024, -0.0410217 , ..., -0.03356527,\n",
              "         -0.06341429,  0.03302877],\n",
              "        ...,\n",
              "        [ 0.0250164 , -0.01337114,  0.0927709 , ...,  0.04141315,\n",
              "          0.02400107,  0.03342389],\n",
              "        [ 0.01584178,  0.02056303,  0.00023777, ...,  0.04610758,\n",
              "         -0.06755802,  0.0666431 ],\n",
              "        [-0.0108292 , -0.04086736, -0.10444946, ...,  0.067619  ,\n",
              "         -0.02081441, -0.01134141]], dtype=float32),\n",
              " array([ 0.534801  , -0.3580434 , -0.05225478, -0.12710433,  0.00155226,\n",
              "        -0.41259632, -0.05618805, -0.36424875,  0.63823336,  0.08961235],\n",
              "       dtype=float32)]"
            ]
          },
          "metadata": {
            "tags": []
          },
          "execution_count": 18
        }
      ]
    },
    {
      "cell_type": "code",
      "metadata": {
        "id": "0a8ZZDKlesLx",
        "colab_type": "code",
        "colab": {}
      },
      "source": [
        "model.save('model.h5')"
      ],
      "execution_count": 19,
      "outputs": []
    }
  ]
}